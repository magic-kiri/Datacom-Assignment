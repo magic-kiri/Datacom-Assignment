{
  "nbformat": 4,
  "nbformat_minor": 0,
  "metadata": {
    "colab": {
      "name": "Task02-LineCodingAndBlockCoding.ipynb",
      "provenance": [],
      "collapsed_sections": []
    },
    "kernelspec": {
      "name": "python3",
      "display_name": "Python 3"
    },
    "language_info": {
      "name": "python"
    }
  },
  "cells": [
    {
      "cell_type": "code",
      "metadata": {
        "id": "Uz_No5KiiVUY"
      },
      "source": [
        "#importing necessary library\n",
        "\n",
        "import numpy as np\n",
        "\n",
        "import matplotlib.pyplot as plt\n",
        "\n",
        "import math"
      ],
      "execution_count": 1,
      "outputs": []
    },
    {
      "cell_type": "markdown",
      "metadata": {
        "id": "CCgV5ZXIkdEG"
      },
      "source": [
        "###**Line Coding (Encoding) - Unipolar - Non Return to Zero(NRZ)**"
      ]
    },
    {
      "cell_type": "code",
      "metadata": {
        "colab": {
          "base_uri": "https://localhost:8080/",
          "height": 265
        },
        "id": "X8SWbaMETFRk",
        "outputId": "bef94cc5-67c6-466b-c401-702a287314ea"
      },
      "source": [
        "'''\n",
        "bits      -      Digital data elements(input bits row vector)\n",
        "Time      -      Time period for sending 1 data elements\n",
        "bit_rate  -      Bit rate(the number of data elements(bits) sent in 1s)\n",
        "Fs        -      Sampling Rate\n",
        "N         -      Bit Length of input bits\n",
        "T         -      Interval of bit time period\n",
        "x         -      Line coding row vector\n",
        "t         -      Time vector for N bits\n",
        "'''\n",
        "\n",
        "bits = np.array([1, 0, 1, 0, 0, 1, 1, 0, 1, 0, 1]) \n",
        "Time = 10e-6   \n",
        "bit_rate = 1/Time  \n",
        "Fs = 4*bit_rate    \n",
        "N = len(bits)   \n",
        "T = np.linspace(0,Time,100)\n",
        "\n",
        "x = np.array([])\n",
        "for i in range(N):\n",
        "  temporary = bits[i]* np.ones(len(T))\n",
        "  x = np.append(x, temporary)\n",
        "t = np.linspace(0,N*Time,len(x))\n",
        "\n",
        "plt.plot(t, x)\n",
        "plt.show()\n"
      ],
      "execution_count": 2,
      "outputs": [
        {
          "output_type": "display_data",
          "data": {
            "image/png": "[encoded data removed]",
            "text/plain": [
              "<Figure size 432x288 with 1 Axes>"
            ]
          },
          "metadata": {
            "needs_background": "light"
          }
        }
      ]
    },
    {
      "cell_type": "markdown",
      "metadata": {
        "id": "uQmibmXIkVfM"
      },
      "source": [
        "###**Line Coding Decoding - Unipolar - Non Return to Zero(NRZ)**"
      ]
    },
    {
      "cell_type": "code",
      "metadata": {
        "colab": {
          "base_uri": "https://localhost:8080/"
        },
        "id": "EWeHgGcSjeyw",
        "outputId": "9723e084-49f6-4e14-866e-3eb715caac57"
      },
      "source": [
        "'''\n",
        "x         -       Signal element(Line coding row vector)\n",
        "t         -       Time vector for N bits\n",
        "bit_rate  -       Bit rate(the number of data elements(bits) sent in 1s)\n",
        "result    -       Data element\n",
        "'''\n",
        "\n",
        "result = []\n",
        "cnt = 0\n",
        "\n",
        "for i in range(len(t)):\n",
        "  if t[i]*bit_rate > cnt:\n",
        "    cnt = cnt + 1\n",
        "    result.append(int(x[i]))\n",
        "\n",
        "print(result)"
      ],
      "execution_count": 4,
      "outputs": [
        {
          "output_type": "stream",
          "name": "stdout",
          "text": [
            "[1, 0, 1, 0, 0, 1, 1, 0, 1, 0, 1]\n"
          ]
        }
      ]
    },
    {
      "cell_type": "markdown",
      "metadata": {
        "id": "U0d4-fE4nS8B"
      },
      "source": [
        "#**Block Coding**"
      ]
    },
    {
      "cell_type": "markdown",
      "metadata": {
        "id": "TDknbBNqDkeW"
      },
      "source": [
        "###**Block Coding($mB/nB$ Coding)**\n",
        "Block coding changes a block of $m$ bits into a block of $n$ bits, where $n$ is larger than $m$. ($n > m$).\n",
        "\n",
        "Block Coding, $mB/nB$ coding and it replaces each $m-bit$ group with an $n-bit$ group."
      ]
    },
    {
      "cell_type": "markdown",
      "metadata": {
        "id": "kJ57ADrOHIFb"
      },
      "source": [
        "####**Block coding $4B/5B$ with $NRZ-I$ line coding scheme**\n",
        "\n",
        "**5 Major Steps:**\n",
        "1. $4B/5B$ encoding\n",
        "2. $NRZ-I$ encoding\n",
        "3. Digital Signal\n",
        "4. $NRZ-I$ decoding\n",
        "5. $4B/5B$ decoding"
      ]
    },
    {
      "cell_type": "markdown",
      "metadata": {
        "id": "rErV1sWSIKw8"
      },
      "source": [
        "**Mapping Codes**"
      ]
    },
    {
      "cell_type": "code",
      "metadata": {
        "id": "zhUv_Q-Zw86z"
      },
      "source": [
        "mB = 4\n",
        "nB = 5\n",
        "block_coding_mapping_codes = {\n",
        "    \n",
        "# encoding map\n",
        "\"0000\": \"11110\",\n",
        "\"0001\": \"01001\",\n",
        "\"0010\": \"10100\",\n",
        "\"0011\": \"10101\",\n",
        "\"0100\": \"01010\",\n",
        "\"0101\": \"01011\",\n",
        "\"0110\": \"01110\",\n",
        "\"0111\": \"01111\",\n",
        "\"1000\": \"10010\",\n",
        "\"1001\": \"10011\",\n",
        "\"1010\": \"10110\",\n",
        "\"1011\": \"10111\",\n",
        "\"1100\": \"11010\",\n",
        "\"1101\": \"11011\",\n",
        "\"1110\": \"11100\",\n",
        "\"1111\": \"11101\",\n",
        "\n",
        "# decoding map(Reverse of encoding)\n",
        "\"11110\": \"0000\",\n",
        "\"01001\": \"0001\",\n",
        "\"10100\": \"0010\",\n",
        "\"10101\": \"0011\",\n",
        "\"01010\": \"0100\",\n",
        "\"01011\": \"0101\",\n",
        "\"01110\": \"0110\",\n",
        "\"01111\": \"0111\",\n",
        "\"10010\": \"1000\",\n",
        "\"10011\": \"1001\",\n",
        "\"10110\": \"1010\",\n",
        "\"10111\": \"1011\",\n",
        "\"11010\": \"1100\",\n",
        "\"11011\": \"1101\",\n",
        "\"11100\": \"1110\",\n",
        "\"11101\": \"1111\",\n",
        "\n",
        "}\n",
        "\n",
        "def get_Mapping_Codes(bits):\n",
        "  return block_coding_mapping_codes[\"\".join(map(str, bits))]\n",
        "\n",
        "def get_MB_NB_Encoding(bits, mB, nB):\n",
        "  if len(bits) % mB != 0:\n",
        "    extra_len = (((len(bits)// mB) + 1) * mB) - len(bits)\n",
        "    extra = np.array(np.zeros(extra_len), dtype=int)\n",
        "    bits = np.append(bits, extra)\n",
        "  \n",
        "  encoded_bits_str = \"\"\n",
        "  for i in range(0, len(bits), mB):\n",
        "    encoded_bits_str += get_Mapping_Codes(bits[i:i+mB])\n",
        "  \n",
        "  encoded_bits_list = list(encoded_bits_str)\n",
        "  encoded_bits_map = map(int, encoded_bits_list)\n",
        "  encoded_bits = np.array(list(encoded_bits_map))\n",
        "  return encoded_bits\n",
        "\n",
        "def get_NB_MB_Decoding(bits, mB, nB):\n",
        "  if len(bits) % nB != 0:\n",
        "    print(\"Invalid length, Decoding Not possible!\")\n",
        "    return\n",
        "  decoded_bits_str = \"\"\n",
        "  for i in range(0, len(bits), nB):\n",
        "    decoded_bits_str += get_Mapping_Codes(bits[i:i+nB])\n",
        "  decoded_bits_list = list(decoded_bits_str)\n",
        "  decoded_bits_map = map(int, decoded_bits_list)\n",
        "  decoded_bits = np.array(list(decoded_bits_map))\n",
        "  return decoded_bits\n"
      ],
      "execution_count": 7,
      "outputs": []
    },
    {
      "cell_type": "markdown",
      "metadata": {
        "id": "iC7gkwCEKC2W"
      },
      "source": [
        "**$4B/5B$ Encoding**"
      ]
    },
    {
      "cell_type": "code",
      "metadata": {
        "id": "TZAXu0oTKI1c"
      },
      "source": [
        "bits = np.array([1, 0, 1, 0, 0, 1, 1, 0, 1, 0, 1], dtype=int) \n",
        "bits = get_MB_NB_Encoding(bits, mB, nB)"
      ],
      "execution_count": 6,
      "outputs": []
    },
    {
      "cell_type": "markdown",
      "metadata": {
        "id": "qOyQZXbKJxqL"
      },
      "source": [
        "**$NRZ-I$ Line Coding Encoding**"
      ]
    },
    {
      "cell_type": "code",
      "metadata": {
        "colab": {
          "base_uri": "https://localhost:8080/",
          "height": 265
        },
        "id": "Rs5-rwGyzOAI",
        "outputId": "993b90f6-eea0-4b52-9139-a7edd704f514"
      },
      "source": [
        "'''\n",
        "bits     - Digital data elements(input bits row vector)\n",
        "Time     - Time period for sending 1 data elements\n",
        "bit_rate - Bit rate(the number of data elements(bits) sent in 1s)\n",
        "Fs       - Sampling Rate\n",
        "N        - Bit Length of input bits\n",
        "T        - Interval of bit time period\n",
        "x        - Line coding row vector\n",
        "t        - Time vector for N bits\n",
        "'''\n",
        "\n",
        "Time = 10e-6   \n",
        "bit_rate = 1/Time  \n",
        "Fs = 4*bit_rate    \n",
        "N = len(bits)   \n",
        "T = np.linspace(0,Time, mB * 100)\n",
        "\n",
        "x = np.array([])\n",
        "last_bit = 1\n",
        "for i in range(N):\n",
        "  if bits[i] == 1:\n",
        "    temp = (-1) * last_bit * np.ones(len(T))\n",
        "    last_bit = -last_bit\n",
        "  else:\n",
        "    temp = last_bit * np.ones(len(T))\n",
        "  x = np.append(x, temp)\n",
        "t = np.linspace(0,N*Time,len(x))\n",
        "\n",
        "plt.plot(t, x)\n",
        "plt.show()"
      ],
      "execution_count": 8,
      "outputs": [
        {
          "output_type": "display_data",
          "data": {
            "image/png": "[encoded data removed]",
            "text/plain": [
              "<Figure size 432x288 with 1 Axes>"
            ]
          },
          "metadata": {
            "needs_background": "light"
          }
        }
      ]
    },
    {
      "cell_type": "markdown",
      "metadata": {
        "id": "5IAx4DiuKSgI"
      },
      "source": [
        "**$NRZ-I$ Line Coding Decoding**"
      ]
    },
    {
      "cell_type": "code",
      "metadata": {
        "colab": {
          "base_uri": "https://localhost:8080/"
        },
        "id": "WKlRBSNH3GHA",
        "outputId": "8f473ff5-a996-4e49-c3b1-c2352c2f1bdb"
      },
      "source": [
        "'''\n",
        "x        - Signal element(Line coding row vector)\n",
        "t        - Time vector for N bits\n",
        "bit_rate - Bit rate(the number of data elements(bits) sent in 1s)\n",
        "result   - Data element\n",
        "\n",
        "'''\n",
        "result = []\n",
        "cnt = 0\n",
        "last_bit = 1\n",
        "for i in range(len(t)):\n",
        "  if t[i]*bit_rate > cnt:\n",
        "    cnt = cnt + 1\n",
        "    if x[i] != last_bit:\n",
        "      result.append(1)\n",
        "      last_bit=-last_bit\n",
        "    else:\n",
        "      result.append(0)\n",
        "\n",
        "print(result)"
      ],
      "execution_count": 10,
      "outputs": [
        {
          "output_type": "stream",
          "name": "stdout",
          "text": [
            "[1, 0, 1, 1, 0, 0, 1, 1, 1, 0, 1, 0, 1, 1, 0]\n"
          ]
        }
      ]
    },
    {
      "cell_type": "markdown",
      "metadata": {
        "id": "ZVHUS1uoKZdv"
      },
      "source": [
        "**$4B/5B$ Decoding**"
      ]
    },
    {
      "cell_type": "code",
      "metadata": {
        "colab": {
          "base_uri": "https://localhost:8080/"
        },
        "id": "u9zwoiNhDTUv",
        "outputId": "c5a16eca-8fae-4802-a413-373298eb6fd6"
      },
      "source": [
        "decoded_result = get_NB_MB_Decoding(result, mB, nB)\n",
        "print(decoded_result)"
      ],
      "execution_count": 11,
      "outputs": [
        {
          "output_type": "stream",
          "name": "stdout",
          "text": [
            "[1 0 1 0 0 1 1 0 1 0 1 0]\n"
          ]
        }
      ]
    },
    {
      "cell_type": "markdown",
      "metadata": {
        "id": "xtaW5Z3mP0iZ"
      },
      "source": [
        "**Thank You!!!**\n",
        "\n",
        "**-KIRITI MUKHERJEE**\n",
        "\n",
        "**2017331063**"
      ]
    }
  ]
}