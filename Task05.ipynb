{
  "nbformat": 4,
  "nbformat_minor": 0,
  "metadata": {
    "colab": {
      "name": "Task05.ipynb",
      "provenance": [],
      "collapsed_sections": []
    },
    "kernelspec": {
      "name": "python3",
      "display_name": "Python 3"
    },
    "language_info": {
      "name": "python"
    }
  },
  "cells": [
    {
      "cell_type": "markdown",
      "metadata": {
        "id": "9cumacasJism"
      },
      "source": [
        "**Modulation**\n",
        "\n",
        "https://inst.eecs.berkeley.edu/~ee123/sp15/lab/lab6/Pre-Lab6-Intro-to-Digital-Communications.html\n",
        "\n",
        "\n",
        "The blog describes the different types of modulation.\n",
        "\n",
        "**1) Amplitude-Shift-Keying (ASK) or On-Off Keying (OOK)**\n",
        "\n",
        ">What we see is that the bandwidth become narrow. At the same time, we see leakage between bits. This is called inter-symbol interference and can cause errors in the detection when there are certain delays that occur between the receiver and the transmitter.\n",
        "\n",
        "**2) Phase-shift-keying (PSK)**\n",
        "\n",
        "**3) Quadrature-Amplitude-Modulation (QAM)**\n",
        "\n",
        "**4) Frequency-Shift-Keying (FSK)**\n",
        "\n",
        "**5) Demodulation**"
      ]
    }
  ]
}